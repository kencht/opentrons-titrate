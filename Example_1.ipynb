{
 "cells": [
  {
   "cell_type": "markdown",
   "id": "0b2c0e71-b149-4b2e-a6ea-d31eed07eef1",
   "metadata": {},
   "source": [
    "We have a 96 well plate containing 16 different compounds in the first two columns. Each well contains 2 µL of a stock solution at 1 mM. We want to carry out an end-point assay at 5 µM in triplicate in a 96 well plate with the addition of a second reagent. "
   ]
  },
  {
   "cell_type": "code",
   "execution_count": 83,
   "id": "4829755f-c32b-43b5-af7e-c9fac5b5b2cd",
   "metadata": {
    "tags": []
   },
   "outputs": [
    {
     "name": "stderr",
     "output_type": "stream",
     "text": [
      "/Users/timkench/.opentrons/robot_settings.json not found. Loading defaults\n",
      "/Users/timkench/.opentrons/deck_calibration.json not found. Loading defaults\n"
     ]
    }
   ],
   "source": [
    "import itertools\n",
    "import math\n",
    "from itertools import islice\n",
    "from pprint import pprint\n",
    "\n",
    "import numpy as np\n",
    "import opentrons.simulate\n",
    "\n",
    "protocol = opentrons.simulate.get_protocol_api(\"2.12\")\n",
    "protocol.home()\n",
    "\n",
    "%run opentrons_titrate_functions.ipynb"
   ]
  },
  {
   "cell_type": "code",
   "execution_count": 84,
   "id": "5fd6a9a1-a0ce-421f-b7bd-48e2789f4ecb",
   "metadata": {
    "tags": []
   },
   "outputs": [],
   "source": [
    "tiprack_20a = protocol.load_labware(\"opentrons_96_tiprack_20ul\", location=\"7\")\n",
    "tiprack_20b = protocol.load_labware(\"opentrons_96_tiprack_20ul\", location=\"8\")\n",
    "tiprack_20c = protocol.load_labware(\"opentrons_96_tiprack_20ul\", location=\"9\")\n",
    "\n",
    "tiprack_300a = protocol.load_labware(\"opentrons_96_tiprack_300ul\", location=\"10\")\n",
    "tiprack_300b = protocol.load_labware(\"opentrons_96_tiprack_300ul\", location=\"11\")\n",
    "\n",
    "m20 = protocol.load_instrument(\n",
    "    \"p20_multi_gen2\", \"left\", tip_racks=[tiprack_20a, tiprack_20b, tiprack_20c]\n",
    ")\n",
    "m300 = protocol.load_instrument(\n",
    "    \"p300_multi_gen2\", \"right\", tip_racks=[tiprack_300a, tiprack_300b]\n",
    ")\n",
    "\n",
    "labware_96w_200ul = \"biorad_96_wellplate_200ul_pcr\"\n",
    "labware_12w_22ml = \"nest_96_wellplate_2ml_deep\"\n",
    "labware_384w_20ul = \"appliedbiosystemsmicroamp_384_wellplate_40ul\"\n",
    "\n",
    "res_plate_ot = protocol.load_labware(labware_12w_22ml, \"1\")\n",
    "stock_plate_ot = protocol.load_labware(labware_96w_200ul, \"2\")\n",
    "measure_plate_ot = protocol.load_labware(labware_96w_200ul, \"3\")"
   ]
  },
  {
   "cell_type": "code",
   "execution_count": null,
   "id": "d545020f-f00a-4695-9dd8-0a7043d183a2",
   "metadata": {
    "tags": []
   },
   "outputs": [
    {
     "name": "stdout",
     "output_type": "stream",
     "text": [
      "This will add the specified source to the active columns of the plate using the m300_c pipette.\n",
      "The plate will be diluted to 10.0 µM\n"
     ]
    }
   ],
   "source": [
    "# set up plates\n",
    "\n",
    "res_plate = ResPlate(reagents={\"buffer\": 0, \"reagent\": 1})\n",
    "res_plate.assign_ot(res_plate_ot)\n",
    "\n",
    "stock_plate = GeneralPlate(active_cols=(0, 2), start_conc=1000, start_vol=2)\n",
    "stock_plate.assign_ot(stock_plate_ot)\n",
    "\n",
    "measure_plate = MeasurePlate(map_to=stock_plate, repeats=3)\n",
    "measure_plate.assign_ot(measure_plate_ot)\n",
    "measure_plate.make_transfer_map()\n",
    "\n",
    "# set up pipettes and protocol\n",
    "\n",
    "m20_c = CustomPipette(m20, name=\"m20_c\")\n",
    "m300_c = CustomPipette(m300, name=\"m300_c\")\n",
    "\n",
    "CP = CustomProtocol(\n",
    "    solvent_location=res_plate.reagents[\"buffer\"], m20=m20_c, m300=m300_c\n",
    ")\n",
    "\n",
    "# do titration\n",
    "\n",
    "CP.add(plate=stock_plate, vol=200)\n",
    "CP.transfer(plate=measure_plate, vol=50)\n",
    "CP.add(\n",
    "    plate=measure_plate,\n",
    "    source=res_plate.reagents[\"reagent\"],\n",
    "    vol=50,\n",
    "    top_dispense=\"Yes\",\n",
    ")"
   ]
  },
  {
   "cell_type": "code",
   "execution_count": 82,
   "id": "f79f4da7-32f2-4271-8416-3f0f188ac59b",
   "metadata": {
    "tags": []
   },
   "outputs": [
    {
     "name": "stdout",
     "output_type": "stream",
     "text": [
      "Picking up tip from A1 of Opentrons 96 Tip Rack 300 µL on 10\n",
      "Aspirating 216.0 uL from A1 of NEST 96 Deep Well Plate 2mL on 1 at 94.0 uL/sec\n",
      "Delaying for 0 minutes and 0.0 seconds\n",
      "Moving to A1 of NEST 96 Deep Well Plate 2mL on 1\n",
      "Dispensing 200.0 uL into A1 of Bio-Rad 96 Well Plate 200 µL PCR on 2 at 94.0 uL/sec\n",
      "Delaying for 0 minutes and 0.0 seconds\n",
      "Moving to A1 of Bio-Rad 96 Well Plate 200 µL PCR on 2\n",
      "Dispensing 17.6 uL into A1 of NEST 96 Deep Well Plate 2mL on 1 at 94.0 uL/sec\n",
      "Delaying for 0 minutes and 0.0 seconds\n",
      "Moving to A1 of NEST 96 Deep Well Plate 2mL on 1\n",
      "Aspirating 216.0 uL from A1 of NEST 96 Deep Well Plate 2mL on 1 at 94.0 uL/sec\n",
      "Delaying for 0 minutes and 0.0 seconds\n",
      "Moving to A1 of NEST 96 Deep Well Plate 2mL on 1\n",
      "Dispensing 200.0 uL into A2 of Bio-Rad 96 Well Plate 200 µL PCR on 2 at 94.0 uL/sec\n",
      "Delaying for 0 minutes and 0.0 seconds\n",
      "Moving to A2 of Bio-Rad 96 Well Plate 200 µL PCR on 2\n",
      "Dispensing 15.84 uL into A1 of NEST 96 Deep Well Plate 2mL on 1 at 94.0 uL/sec\n",
      "Delaying for 0 minutes and 0.0 seconds\n",
      "Moving to A1 of NEST 96 Deep Well Plate 2mL on 1\n",
      "Dropping tip into A1 of Opentrons Fixed Trash on 12\n",
      "Picking up tip from A2 of Opentrons 96 Tip Rack 300 µL on 10\n",
      "Aspirating 162.0 uL from A1 of Bio-Rad 96 Well Plate 200 µL PCR on 2 at 94.0 uL/sec\n",
      "Delaying for 0 minutes and 0.0 seconds\n",
      "Moving to A1 of Bio-Rad 96 Well Plate 200 µL PCR on 2\n",
      "Dispensing 50.0 uL into A1 of Bio-Rad 96 Well Plate 200 µL PCR on 3 at 94.0 uL/sec\n",
      "Delaying for 0 minutes and 0.0 seconds\n",
      "Moving to A1 of Bio-Rad 96 Well Plate 200 µL PCR on 3\n",
      "Dispensing 50.0 uL into A2 of Bio-Rad 96 Well Plate 200 µL PCR on 3 at 94.0 uL/sec\n",
      "Delaying for 0 minutes and 0.0 seconds\n",
      "Moving to A2 of Bio-Rad 96 Well Plate 200 µL PCR on 3\n",
      "Dispensing 50.0 uL into A3 of Bio-Rad 96 Well Plate 200 µL PCR on 3 at 94.0 uL/sec\n",
      "Delaying for 0 minutes and 0.0 seconds\n",
      "Moving to A3 of Bio-Rad 96 Well Plate 200 µL PCR on 3\n",
      "Dispensing 13.2 uL into A1 of Bio-Rad 96 Well Plate 200 µL PCR on 2 at 94.0 uL/sec\n",
      "Delaying for 0 minutes and 0.0 seconds\n",
      "Moving to A1 of Bio-Rad 96 Well Plate 200 µL PCR on 2\n",
      "Dropping tip into A1 of Opentrons Fixed Trash on 12\n",
      "Picking up tip from A3 of Opentrons 96 Tip Rack 300 µL on 10\n",
      "Aspirating 162.0 uL from A1 of Bio-Rad 96 Well Plate 200 µL PCR on 2 at 94.0 uL/sec\n",
      "Delaying for 0 minutes and 0.0 seconds\n",
      "Moving to A1 of Bio-Rad 96 Well Plate 200 µL PCR on 2\n",
      "Dispensing 50.0 uL into A4 of Bio-Rad 96 Well Plate 200 µL PCR on 3 at 94.0 uL/sec\n",
      "Delaying for 0 minutes and 0.0 seconds\n",
      "Moving to A4 of Bio-Rad 96 Well Plate 200 µL PCR on 3\n",
      "Dispensing 50.0 uL into A5 of Bio-Rad 96 Well Plate 200 µL PCR on 3 at 94.0 uL/sec\n",
      "Delaying for 0 minutes and 0.0 seconds\n",
      "Moving to A5 of Bio-Rad 96 Well Plate 200 µL PCR on 3\n",
      "Dispensing 50.0 uL into A6 of Bio-Rad 96 Well Plate 200 µL PCR on 3 at 94.0 uL/sec\n",
      "Delaying for 0 minutes and 0.0 seconds\n",
      "Moving to A6 of Bio-Rad 96 Well Plate 200 µL PCR on 3\n",
      "Dispensing 13.2 uL into A1 of Bio-Rad 96 Well Plate 200 µL PCR on 2 at 94.0 uL/sec\n",
      "Delaying for 0 minutes and 0.0 seconds\n",
      "Moving to A1 of Bio-Rad 96 Well Plate 200 µL PCR on 2\n",
      "Dropping tip into A1 of Opentrons Fixed Trash on 12\n",
      "Picking up tip from A4 of Opentrons 96 Tip Rack 300 µL on 10\n",
      "Aspirating 162.0 uL from A1 of Bio-Rad 96 Well Plate 200 µL PCR on 2 at 94.0 uL/sec\n",
      "Delaying for 0 minutes and 0.0 seconds\n",
      "Moving to A1 of Bio-Rad 96 Well Plate 200 µL PCR on 2\n",
      "Dispensing 50.0 uL into A7 of Bio-Rad 96 Well Plate 200 µL PCR on 3 at 94.0 uL/sec\n",
      "Delaying for 0 minutes and 0.0 seconds\n",
      "Moving to A7 of Bio-Rad 96 Well Plate 200 µL PCR on 3\n",
      "Dispensing 50.0 uL into A8 of Bio-Rad 96 Well Plate 200 µL PCR on 3 at 94.0 uL/sec\n",
      "Delaying for 0 minutes and 0.0 seconds\n",
      "Moving to A8 of Bio-Rad 96 Well Plate 200 µL PCR on 3\n",
      "Dispensing 50.0 uL into A9 of Bio-Rad 96 Well Plate 200 µL PCR on 3 at 94.0 uL/sec\n",
      "Delaying for 0 minutes and 0.0 seconds\n",
      "Moving to A9 of Bio-Rad 96 Well Plate 200 µL PCR on 3\n",
      "Dispensing 13.2 uL into A1 of Bio-Rad 96 Well Plate 200 µL PCR on 2 at 94.0 uL/sec\n",
      "Delaying for 0 minutes and 0.0 seconds\n",
      "Moving to A1 of Bio-Rad 96 Well Plate 200 µL PCR on 2\n",
      "Dropping tip into A1 of Opentrons Fixed Trash on 12\n",
      "Picking up tip from A5 of Opentrons 96 Tip Rack 300 µL on 10\n",
      "Aspirating 162.0 uL from A2 of Bio-Rad 96 Well Plate 200 µL PCR on 2 at 94.0 uL/sec\n",
      "Delaying for 0 minutes and 0.0 seconds\n",
      "Moving to A2 of Bio-Rad 96 Well Plate 200 µL PCR on 2\n",
      "Dispensing 50.0 uL into A10 of Bio-Rad 96 Well Plate 200 µL PCR on 3 at 94.0 uL/sec\n",
      "Delaying for 0 minutes and 0.0 seconds\n",
      "Moving to A10 of Bio-Rad 96 Well Plate 200 µL PCR on 3\n",
      "Dispensing 50.0 uL into A11 of Bio-Rad 96 Well Plate 200 µL PCR on 3 at 94.0 uL/sec\n",
      "Delaying for 0 minutes and 0.0 seconds\n",
      "Moving to A11 of Bio-Rad 96 Well Plate 200 µL PCR on 3\n",
      "Dispensing 50.0 uL into A12 of Bio-Rad 96 Well Plate 200 µL PCR on 3 at 94.0 uL/sec\n",
      "Delaying for 0 minutes and 0.0 seconds\n",
      "Moving to A12 of Bio-Rad 96 Well Plate 200 µL PCR on 3\n",
      "Dispensing 13.2 uL into A2 of Bio-Rad 96 Well Plate 200 µL PCR on 2 at 94.0 uL/sec\n",
      "Delaying for 0 minutes and 0.0 seconds\n",
      "Moving to A2 of Bio-Rad 96 Well Plate 200 µL PCR on 2\n",
      "Dropping tip into A1 of Opentrons Fixed Trash on 12\n",
      "Picking up tip from A6 of Opentrons 96 Tip Rack 300 µL on 10\n",
      "Aspirating 270.0 uL from A2 of NEST 96 Deep Well Plate 2mL on 1 at 94.0 uL/sec\n",
      "Delaying for 0 minutes and 0.0 seconds\n",
      "Moving to A2 of NEST 96 Deep Well Plate 2mL on 1\n",
      "Dispensing 50.0 uL into A1 of Bio-Rad 96 Well Plate 200 µL PCR on 3 at 94.0 uL/sec\n",
      "Delaying for 0 minutes and 0.0 seconds\n",
      "Dispensing 50.0 uL into A2 of Bio-Rad 96 Well Plate 200 µL PCR on 3 at 94.0 uL/sec\n",
      "Delaying for 0 minutes and 0.0 seconds\n",
      "Dispensing 50.0 uL into A3 of Bio-Rad 96 Well Plate 200 µL PCR on 3 at 94.0 uL/sec\n",
      "Delaying for 0 minutes and 0.0 seconds\n",
      "Dispensing 50.0 uL into A4 of Bio-Rad 96 Well Plate 200 µL PCR on 3 at 94.0 uL/sec\n",
      "Delaying for 0 minutes and 0.0 seconds\n",
      "Dispensing 50.0 uL into A5 of Bio-Rad 96 Well Plate 200 µL PCR on 3 at 94.0 uL/sec\n",
      "Delaying for 0 minutes and 0.0 seconds\n",
      "Dispensing 22.0 uL into A2 of NEST 96 Deep Well Plate 2mL on 1 at 94.0 uL/sec\n",
      "Delaying for 0 minutes and 0.0 seconds\n",
      "Moving to A2 of NEST 96 Deep Well Plate 2mL on 1\n",
      "Aspirating 54.0 uL from A2 of NEST 96 Deep Well Plate 2mL on 1 at 94.0 uL/sec\n",
      "Delaying for 0 minutes and 0.0 seconds\n",
      "Moving to A2 of NEST 96 Deep Well Plate 2mL on 1\n",
      "Dispensing 50.0 uL into A6 of Bio-Rad 96 Well Plate 200 µL PCR on 3 at 94.0 uL/sec\n",
      "Delaying for 0 minutes and 0.0 seconds\n",
      "Dispensing 2.2 uL into A2 of NEST 96 Deep Well Plate 2mL on 1 at 94.0 uL/sec\n",
      "Delaying for 0 minutes and 0.0 seconds\n",
      "Moving to A2 of NEST 96 Deep Well Plate 2mL on 1\n",
      "Dropping tip into A1 of Opentrons Fixed Trash on 12\n"
     ]
    }
   ],
   "source": [
    "for line in protocol.commands():\n",
    "    print(line)"
   ]
  },
  {
   "cell_type": "code",
   "execution_count": null,
   "id": "759d9c75-067b-4063-ba3b-9c39b4ee52d2",
   "metadata": {},
   "outputs": [],
   "source": []
  }
 ],
 "metadata": {
  "kernelspec": {
   "display_name": "Python 3 (ipykernel)",
   "language": "python",
   "name": "python3"
  },
  "language_info": {
   "codemirror_mode": {
    "name": "ipython",
    "version": 3
   },
   "file_extension": ".py",
   "mimetype": "text/x-python",
   "name": "python",
   "nbconvert_exporter": "python",
   "pygments_lexer": "ipython3",
   "version": "3.10.10"
  }
 },
 "nbformat": 4,
 "nbformat_minor": 5
}
