{
 "cells": [
  {
   "cell_type": "code",
   "execution_count": 1,
   "id": "4829755f-c32b-43b5-af7e-c9fac5b5b2cd",
   "metadata": {
    "tags": []
   },
   "outputs": [
    {
     "name": "stderr",
     "output_type": "stream",
     "text": [
      "/Users/timkench/.opentrons/robot_settings.json not found. Loading defaults\n",
      "/Users/timkench/.opentrons/deck_calibration.json not found. Loading defaults\n"
     ]
    }
   ],
   "source": [
    "import itertools\n",
    "import math\n",
    "from itertools import islice\n",
    "from pprint import pprint\n",
    "\n",
    "import numpy as np\n",
    "import opentrons.simulate\n",
    "\n",
    "protocol = opentrons.simulate.get_protocol_api(\"2.12\")\n",
    "protocol.home()\n",
    "\n",
    "%run opentrons_titrate_functions.ipynb"
   ]
  },
  {
   "cell_type": "code",
   "execution_count": 2,
   "id": "5fd6a9a1-a0ce-421f-b7bd-48e2789f4ecb",
   "metadata": {
    "tags": []
   },
   "outputs": [],
   "source": [
    "tiprack_20a = protocol.load_labware(\"opentrons_96_tiprack_20ul\", location=\"7\")\n",
    "tiprack_20b = protocol.load_labware(\"opentrons_96_tiprack_20ul\", location=\"8\")\n",
    "tiprack_20c = protocol.load_labware(\"opentrons_96_tiprack_20ul\", location=\"9\")\n",
    "\n",
    "tiprack_300a = protocol.load_labware(\"opentrons_96_tiprack_300ul\", location=\"10\")\n",
    "tiprack_300b = protocol.load_labware(\"opentrons_96_tiprack_300ul\", location=\"11\")\n",
    "\n",
    "m20 = protocol.load_instrument(\n",
    "    \"p20_multi_gen2\", \"left\", tip_racks=[tiprack_20a, tiprack_20b, tiprack_20c]\n",
    ")\n",
    "m300 = protocol.load_instrument(\n",
    "    \"p300_multi_gen2\", \"right\", tip_racks=[tiprack_300a, tiprack_300b]\n",
    ")\n",
    "\n",
    "labware_96w_200ul = \"biorad_96_wellplate_200ul_pcr\"\n",
    "labware_12w_22ml = \"nest_96_wellplate_2ml_deep\"\n",
    "labware_384w_20ul = \"appliedbiosystemsmicroamp_384_wellplate_40ul\"\n",
    "\n",
    "res_plate_ot = protocol.load_labware(labware_12w_22ml, \"1\")\n",
    "stock_plate_ot = protocol.load_labware(labware_96w_200ul, \"2\")\n",
    "dil_plate_ot = protocol.load_labware(labware_96w_200ul, \"3\")\n",
    "measure_plate_ot = protocol.load_labware(labware_384w_20ul, \"4\")"
   ]
  },
  {
   "cell_type": "code",
   "execution_count": 3,
   "id": "ec4590c9-ddb0-4c2a-adc4-6968c6bd3374",
   "metadata": {
    "tags": []
   },
   "outputs": [
    {
     "name": "stdout",
     "output_type": "stream",
     "text": [
      "This will add the specified source to the active columns of the plate using the m300_c pipette.\n",
      "The plate will be diluted to 100.0 µM\n"
     ]
    },
    {
     "name": "stdin",
     "output_type": "stream",
     "text": [
      "Do you want to continue? (Y/N):  y\n"
     ]
    },
    {
     "name": "stdout",
     "output_type": "stream",
     "text": [
      "continuing...\n",
      "done\n",
      "plate diluted to 100.0 µM\n",
      "This will transfer 40.0 µL and combine it with 60.0 µL of solvent for a end concentration of 40 µM.\n"
     ]
    },
    {
     "name": "stdin",
     "output_type": "stream",
     "text": [
      "Do you want to continue? (Y/N):  y\n"
     ]
    },
    {
     "name": "stdout",
     "output_type": "stream",
     "text": [
      "continuing...\n",
      "done\n"
     ]
    },
    {
     "ename": "TypeError",
     "evalue": "'float' object is not callable",
     "output_type": "error",
     "traceback": [
      "\u001b[0;31m---------------------------------------------------------------------------\u001b[0m",
      "\u001b[0;31mTypeError\u001b[0m                                 Traceback (most recent call last)",
      "Cell \u001b[0;32mIn[3], line 30\u001b[0m\n\u001b[1;32m     28\u001b[0m CP\u001b[38;5;241m.\u001b[39madd(plate\u001b[38;5;241m=\u001b[39mstock_plate, vol\u001b[38;5;241m=\u001b[39m\u001b[38;5;241m100\u001b[39m)\n\u001b[1;32m     29\u001b[0m CP\u001b[38;5;241m.\u001b[39mdilution(start_plate\u001b[38;5;241m=\u001b[39mstock_plate, end_plate\u001b[38;5;241m=\u001b[39mdil_plate)\n\u001b[0;32m---> 30\u001b[0m \u001b[43mCP\u001b[49m\u001b[38;5;241;43m.\u001b[39;49m\u001b[43mserial_dilute\u001b[49m\u001b[43m(\u001b[49m\u001b[43mplate\u001b[49m\u001b[38;5;241;43m=\u001b[39;49m\u001b[43mmeasure_plate\u001b[49m\u001b[43m,\u001b[49m\u001b[43m \u001b[49m\u001b[43mvol\u001b[49m\u001b[38;5;241;43m=\u001b[39;49m\u001b[38;5;241;43m9\u001b[39;49m\u001b[43m,\u001b[49m\u001b[43m \u001b[49m\u001b[43msd_factor\u001b[49m\u001b[38;5;241;43m=\u001b[39;49m\u001b[38;5;241;43m0.5\u001b[39;49m\u001b[43m)\u001b[49m\n\u001b[1;32m     31\u001b[0m CP\u001b[38;5;241m.\u001b[39madd(\n\u001b[1;32m     32\u001b[0m     plate\u001b[38;5;241m=\u001b[39mmeasure_plate,\n\u001b[1;32m     33\u001b[0m     source\u001b[38;5;241m=\u001b[39mres_plate\u001b[38;5;241m.\u001b[39mreagents[\u001b[38;5;124m\"\u001b[39m\u001b[38;5;124mreagent\u001b[39m\u001b[38;5;124m\"\u001b[39m],\n\u001b[1;32m     34\u001b[0m     vol\u001b[38;5;241m=\u001b[39m\u001b[38;5;241m9\u001b[39m,\n\u001b[1;32m     35\u001b[0m     top_dispense\u001b[38;5;241m=\u001b[39m\u001b[38;5;124m\"\u001b[39m\u001b[38;5;124mYes\u001b[39m\u001b[38;5;124m\"\u001b[39m,\n\u001b[1;32m     36\u001b[0m )\n\u001b[1;32m     38\u001b[0m \u001b[38;5;66;03m# titration part 2 after new plate added to opentrons\u001b[39;00m\n",
      "File \u001b[0;32m/var/folders/qk/j_mljt7n60dfyxxjdw91pq4w0000gn/T/ipykernel_25444/2456122834.py:102\u001b[0m, in \u001b[0;36mCustomProtocol.serial_dilute\u001b[0;34m(self, plate, vol, sd_factor, source)\u001b[0m\n\u001b[1;32m    100\u001b[0m \u001b[38;5;28;01mdef\u001b[39;00m \u001b[38;5;21mserial_dilute\u001b[39m(\u001b[38;5;28mself\u001b[39m, plate, vol, sd_factor, source\u001b[38;5;241m=\u001b[39m\u001b[38;5;28;01mNone\u001b[39;00m):\n\u001b[0;32m--> 102\u001b[0m     transfer_vol \u001b[38;5;241m=\u001b[39m \u001b[43m(\u001b[49m\u001b[43mvol\u001b[49m\u001b[43m \u001b[49m\u001b[38;5;241;43m*\u001b[39;49m\u001b[43m \u001b[49m\u001b[43msd_factor\u001b[49m\u001b[43m)\u001b[49m\u001b[43m(\u001b[49m\u001b[38;5;241;43m1\u001b[39;49m\u001b[43m \u001b[49m\u001b[38;5;241;43m-\u001b[39;49m\u001b[43m \u001b[49m\u001b[43msd_factor\u001b[49m\u001b[43m)\u001b[49m\n\u001b[1;32m    103\u001b[0m     transfer_vol \u001b[38;5;241m=\u001b[39m \u001b[38;5;28mround\u001b[39m(transfer_vol, \u001b[38;5;241m2\u001b[39m)\n\u001b[1;32m    105\u001b[0m     start_vol \u001b[38;5;241m=\u001b[39m transfer_vol \u001b[38;5;241m+\u001b[39m vol\n",
      "\u001b[0;31mTypeError\u001b[0m: 'float' object is not callable"
     ]
    }
   ],
   "source": [
    "# set up plates\n",
    "\n",
    "res_plate = ResPlate(reagents={\"buffer\": 0, \"reagent\": 1})\n",
    "res_plate.assign_ot(res_plate_ot)\n",
    "\n",
    "stock_plate = GeneralPlate(active_cols=(0, 4), start_conc=5000, start_vol=2)\n",
    "stock_plate.assign_ot(stock_plate_ot)\n",
    "\n",
    "dil_plate = GeneralPlate(map_to=stock_plate, end_conc=40, end_vol=100)\n",
    "dil_plate.assign_ot(dil_plate_ot)\n",
    "dil_plate.make_transfer_map()\n",
    "\n",
    "measure_plate = MeasurePlate(map_to=dil_plate, points=8, repeats=3)\n",
    "measure_plate.assign_ot(measure_plate_ot)\n",
    "measure_plate.make_transfer_map()\n",
    "\n",
    "# set up pipettes and protocol\n",
    "\n",
    "m20_c = CustomPipette(m20, name=\"m20_c\")\n",
    "m300_c = CustomPipette(m300, name=\"m300_c\")\n",
    "\n",
    "CP = CustomProtocol(\n",
    "    solvent_location=res_plate.reagents[\"buffer\"], m20=m20_c, m300=m300_c\n",
    ")\n",
    "\n",
    "# do titration part 1\n",
    "\n",
    "CP.add(plate=stock_plate, vol=100)\n",
    "CP.dilution(start_plate=stock_plate, end_plate=dil_plate)\n",
    "CP.serial_dilute(plate=measure_plate, vol=9, sd_factor=0.5)\n",
    "CP.add(\n",
    "    plate=measure_plate,\n",
    "    source=res_plate.reagents[\"reagent\"],\n",
    "    vol=9,\n",
    "    top_dispense=\"Yes\",\n",
    ")\n",
    "\n",
    "# titration part 2 after new plate added to opentrons\n",
    "\n",
    "measure_plate.make_transfer_map()\n",
    "CP.serial_dilute(plate=measure_plate, vol=9, sd_factor=0.5)\n",
    "CP.add(\n",
    "    plate=measure_plate,\n",
    "    source=res_plate.reagents[\"reagent\"],\n",
    "    vol=9,\n",
    "    top_dispense=\"Yes\",\n",
    ")\n"
   ]
  },
  {
   "cell_type": "code",
   "execution_count": 5,
   "id": "30e88fb3-2acc-4a94-a9ba-b185088d6bc7",
   "metadata": {
    "tags": []
   },
   "outputs": [
    {
     "data": {
      "text/plain": [
       "[[A1 of Bio-Rad 96 Well Plate 200 µL PCR on 2,\n",
       "  A1 of Bio-Rad 96 Well Plate 200 µL PCR on 3],\n",
       " [A2 of Bio-Rad 96 Well Plate 200 µL PCR on 2,\n",
       "  A2 of Bio-Rad 96 Well Plate 200 µL PCR on 3],\n",
       " [A3 of Bio-Rad 96 Well Plate 200 µL PCR on 2,\n",
       "  A3 of Bio-Rad 96 Well Plate 200 µL PCR on 3],\n",
       " [A4 of Bio-Rad 96 Well Plate 200 µL PCR on 2,\n",
       "  A4 of Bio-Rad 96 Well Plate 200 µL PCR on 3]]"
      ]
     },
     "execution_count": 5,
     "metadata": {},
     "output_type": "execute_result"
    }
   ],
   "source": [
    "dil_plate.transfer_map"
   ]
  },
  {
   "cell_type": "code",
   "execution_count": null,
   "id": "e5d6d7a5-1bd9-43a1-a895-6227187ab14e",
   "metadata": {},
   "outputs": [],
   "source": []
  }
 ],
 "metadata": {
  "kernelspec": {
   "display_name": "Python 3 (ipykernel)",
   "language": "python",
   "name": "python3"
  },
  "language_info": {
   "codemirror_mode": {
    "name": "ipython",
    "version": 3
   },
   "file_extension": ".py",
   "mimetype": "text/x-python",
   "name": "python",
   "nbconvert_exporter": "python",
   "pygments_lexer": "ipython3",
   "version": "3.10.10"
  }
 },
 "nbformat": 4,
 "nbformat_minor": 5
}
